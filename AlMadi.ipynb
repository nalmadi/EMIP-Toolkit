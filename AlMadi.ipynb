{
 "cells": [
  {
   "cell_type": "markdown",
   "metadata": {},
   "source": [
    "# Getting started with AlMadi dataset"
   ]
  },
  {
   "cell_type": "code",
   "execution_count": 10,
   "metadata": {},
   "outputs": [
    {
     "name": "stdout",
     "output_type": "stream",
     "text": [
      "The autoreload extension is already loaded. To reload it, use:\n",
      "  %reload_ext autoreload\n"
     ]
    }
   ],
   "source": [
    "%load_ext autoreload\n",
    "%autoreload 2"
   ]
  },
  {
   "cell_type": "markdown",
   "metadata": {},
   "source": [
    "# Import the tool"
   ]
  },
  {
   "cell_type": "code",
   "execution_count": 11,
   "metadata": {},
   "outputs": [],
   "source": [
    "from emtk import parsers, visualization, util"
   ]
  },
  {
   "cell_type": "markdown",
   "metadata": {},
   "source": [
    "# Parsing raw data from the dataset"
   ]
  },
  {
   "cell_type": "markdown",
   "metadata": {},
   "source": [
    "_Note_: The AlMadi dataset does not have raw data (samples). It only contains filtered fixation, saccades, and blinks."
   ]
  },
  {
   "cell_type": "code",
   "execution_count": 12,
   "metadata": {},
   "outputs": [
    {
     "name": "stdout",
     "output_type": "stream",
     "text": [
      "Please cite this paper:  https://dl.acm.org/doi/10.1145/3448018.345742\n",
      "parsing file: 001.asc\n",
      "parsing file: 002.asc\n",
      "parsing file: 003.asc\n",
      "parsing file: 004.asc\n",
      "parsing file: 005.asc\n",
      "parsing file: 006.asc\n",
      "parsing file: 007.asc\n",
      "parsing file: 008.asc\n"
     ]
    }
   ],
   "source": [
    "eye_events, _ = parsers.AlMadi(sample_size = 8)"
   ]
  },
  {
   "cell_type": "code",
   "execution_count": 13,
   "metadata": {},
   "outputs": [
    {
     "data": {
      "text/html": [
       "<div>\n",
       "<style scoped>\n",
       "    .dataframe tbody tr th:only-of-type {\n",
       "        vertical-align: middle;\n",
       "    }\n",
       "\n",
       "    .dataframe tbody tr th {\n",
       "        vertical-align: top;\n",
       "    }\n",
       "\n",
       "    .dataframe thead th {\n",
       "        text-align: right;\n",
       "    }\n",
       "</style>\n",
       "<table border=\"1\" class=\"dataframe\">\n",
       "  <thead>\n",
       "    <tr style=\"text-align: right;\">\n",
       "      <th></th>\n",
       "      <th>eye_tracker</th>\n",
       "      <th>experiment_id</th>\n",
       "      <th>participant_id</th>\n",
       "      <th>filename</th>\n",
       "      <th>trial_id</th>\n",
       "      <th>stimuli_module</th>\n",
       "      <th>stimuli_name</th>\n",
       "      <th>timestamp</th>\n",
       "      <th>duration</th>\n",
       "      <th>x0</th>\n",
       "      <th>y0</th>\n",
       "      <th>x1</th>\n",
       "      <th>y1</th>\n",
       "      <th>token</th>\n",
       "      <th>pupil</th>\n",
       "      <th>amplitude</th>\n",
       "      <th>peak_velocity</th>\n",
       "      <th>eye_event_type</th>\n",
       "    </tr>\n",
       "  </thead>\n",
       "  <tbody>\n",
       "    <tr>\n",
       "      <th>0</th>\n",
       "      <td>EyeLink1000</td>\n",
       "      <td>001</td>\n",
       "      <td>001</td>\n",
       "      <td>001.asc</td>\n",
       "      <td>0</td>\n",
       "      <td>emtk/datasets/AlMadi2018/runtime/images/</td>\n",
       "      <td>1706913863030379050.png</td>\n",
       "      <td>178149</td>\n",
       "      <td>104</td>\n",
       "      <td>163.8</td>\n",
       "      <td>387.2</td>\n",
       "      <td>NaN</td>\n",
       "      <td>NaN</td>\n",
       "      <td>[EFIX, R, 178149, 178252, 104, 163.8, 387.2, 4...</td>\n",
       "      <td>4163.0</td>\n",
       "      <td>NaN</td>\n",
       "      <td>NaN</td>\n",
       "      <td>fixation</td>\n",
       "    </tr>\n",
       "    <tr>\n",
       "      <th>1</th>\n",
       "      <td>EyeLink1000</td>\n",
       "      <td>001</td>\n",
       "      <td>001</td>\n",
       "      <td>001.asc</td>\n",
       "      <td>0</td>\n",
       "      <td>emtk/datasets/AlMadi2018/runtime/images/</td>\n",
       "      <td>1706913863030379050.png</td>\n",
       "      <td>178253</td>\n",
       "      <td>26</td>\n",
       "      <td>163.7</td>\n",
       "      <td>386.0</td>\n",
       "      <td>73.3</td>\n",
       "      <td>391.5</td>\n",
       "      <td>[ESACC, R, 178253, 178278, 26, 163.7, 386.0, 7...</td>\n",
       "      <td>NaN</td>\n",
       "      <td>3.01</td>\n",
       "      <td>235.0</td>\n",
       "      <td>saccade</td>\n",
       "    </tr>\n",
       "    <tr>\n",
       "      <th>2</th>\n",
       "      <td>EyeLink1000</td>\n",
       "      <td>001</td>\n",
       "      <td>001</td>\n",
       "      <td>001.asc</td>\n",
       "      <td>0</td>\n",
       "      <td>emtk/datasets/AlMadi2018/runtime/images/</td>\n",
       "      <td>1706913863030379050.png</td>\n",
       "      <td>178279</td>\n",
       "      <td>119</td>\n",
       "      <td>83.4</td>\n",
       "      <td>388.9</td>\n",
       "      <td>NaN</td>\n",
       "      <td>NaN</td>\n",
       "      <td>[EFIX, R, 178279, 178397, 119, 83.4, 388.9, 4170]</td>\n",
       "      <td>4170.0</td>\n",
       "      <td>NaN</td>\n",
       "      <td>NaN</td>\n",
       "      <td>fixation</td>\n",
       "    </tr>\n",
       "    <tr>\n",
       "      <th>3</th>\n",
       "      <td>EyeLink1000</td>\n",
       "      <td>001</td>\n",
       "      <td>001</td>\n",
       "      <td>001.asc</td>\n",
       "      <td>0</td>\n",
       "      <td>emtk/datasets/AlMadi2018/runtime/images/</td>\n",
       "      <td>1706913863030379050.png</td>\n",
       "      <td>178398</td>\n",
       "      <td>30</td>\n",
       "      <td>88.7</td>\n",
       "      <td>388.4</td>\n",
       "      <td>-4.7</td>\n",
       "      <td>375.7</td>\n",
       "      <td>[ESACC, R, 178398, 178427, 30, 88.7, 388.4, -4...</td>\n",
       "      <td>NaN</td>\n",
       "      <td>3.05</td>\n",
       "      <td>188.0</td>\n",
       "      <td>saccade</td>\n",
       "    </tr>\n",
       "    <tr>\n",
       "      <th>4</th>\n",
       "      <td>EyeLink1000</td>\n",
       "      <td>001</td>\n",
       "      <td>001</td>\n",
       "      <td>001.asc</td>\n",
       "      <td>0</td>\n",
       "      <td>emtk/datasets/AlMadi2018/runtime/images/</td>\n",
       "      <td>1706913863030379050.png</td>\n",
       "      <td>178428</td>\n",
       "      <td>125</td>\n",
       "      <td>5.5</td>\n",
       "      <td>375.1</td>\n",
       "      <td>NaN</td>\n",
       "      <td>NaN</td>\n",
       "      <td>[EFIX, R, 178428, 178552, 125, 5.5, 375.1, 4181]</td>\n",
       "      <td>4181.0</td>\n",
       "      <td>NaN</td>\n",
       "      <td>NaN</td>\n",
       "      <td>fixation</td>\n",
       "    </tr>\n",
       "  </tbody>\n",
       "</table>\n",
       "</div>"
      ],
      "text/plain": [
       "   eye_tracker experiment_id participant_id filename trial_id  \\\n",
       "0  EyeLink1000           001            001  001.asc        0   \n",
       "1  EyeLink1000           001            001  001.asc        0   \n",
       "2  EyeLink1000           001            001  001.asc        0   \n",
       "3  EyeLink1000           001            001  001.asc        0   \n",
       "4  EyeLink1000           001            001  001.asc        0   \n",
       "\n",
       "                             stimuli_module             stimuli_name  \\\n",
       "0  emtk/datasets/AlMadi2018/runtime/images/  1706913863030379050.png   \n",
       "1  emtk/datasets/AlMadi2018/runtime/images/  1706913863030379050.png   \n",
       "2  emtk/datasets/AlMadi2018/runtime/images/  1706913863030379050.png   \n",
       "3  emtk/datasets/AlMadi2018/runtime/images/  1706913863030379050.png   \n",
       "4  emtk/datasets/AlMadi2018/runtime/images/  1706913863030379050.png   \n",
       "\n",
       "   timestamp  duration     x0     y0    x1     y1  \\\n",
       "0     178149       104  163.8  387.2   NaN    NaN   \n",
       "1     178253        26  163.7  386.0  73.3  391.5   \n",
       "2     178279       119   83.4  388.9   NaN    NaN   \n",
       "3     178398        30   88.7  388.4  -4.7  375.7   \n",
       "4     178428       125    5.5  375.1   NaN    NaN   \n",
       "\n",
       "                                               token   pupil  amplitude  \\\n",
       "0  [EFIX, R, 178149, 178252, 104, 163.8, 387.2, 4...  4163.0        NaN   \n",
       "1  [ESACC, R, 178253, 178278, 26, 163.7, 386.0, 7...     NaN       3.01   \n",
       "2  [EFIX, R, 178279, 178397, 119, 83.4, 388.9, 4170]  4170.0        NaN   \n",
       "3  [ESACC, R, 178398, 178427, 30, 88.7, 388.4, -4...     NaN       3.05   \n",
       "4   [EFIX, R, 178428, 178552, 125, 5.5, 375.1, 4181]  4181.0        NaN   \n",
       "\n",
       "   peak_velocity eye_event_type  \n",
       "0            NaN       fixation  \n",
       "1          235.0        saccade  \n",
       "2            NaN       fixation  \n",
       "3          188.0        saccade  \n",
       "4            NaN       fixation  "
      ]
     },
     "execution_count": 13,
     "metadata": {},
     "output_type": "execute_result"
    }
   ],
   "source": [
    "eye_events.head()"
   ]
  },
  {
   "cell_type": "markdown",
   "metadata": {},
   "source": [
    "# Visualization"
   ]
  },
  {
   "cell_type": "markdown",
   "metadata": {},
   "source": [
    "## Filtered fixations, saccades, and AOIs."
   ]
  },
  {
   "cell_type": "markdown",
   "metadata": {},
   "source": [
    "You can visualize any filtered fixations, saccades, and AOIs."
   ]
  },
  {
   "cell_type": "code",
   "execution_count": 14,
   "metadata": {},
   "outputs": [],
   "source": [
    "experiment_id = '001'\n",
    "trial_id = '1'\n",
    "\n",
    "trial_data = eye_events.loc[(eye_events['experiment_id'] == experiment_id) & \n",
    "                            (eye_events['trial_id'] == trial_id)]"
   ]
  },
  {
   "cell_type": "code",
   "execution_count": 15,
   "metadata": {},
   "outputs": [
    {
     "data": {
      "image/png": "[encoded data removed]",
      "text/plain": [
       "<Figure size 1224x1080 with 1 Axes>"
      ]
     },
     "metadata": {
      "needs_background": "light"
     },
     "output_type": "display_data"
    }
   ],
   "source": [
    "visualization.draw_trial(trial_data, draw_aoi = True, draw_number = True, draw_saccade=True)"
   ]
  },
  {
   "cell_type": "markdown",
   "metadata": {},
   "source": [
    "# Fixation correction through setting offset"
   ]
  },
  {
   "cell_type": "code",
   "execution_count": 16,
   "metadata": {},
   "outputs": [
    {
     "data": {
      "image/png": "[encoded data removed]",
      "text/plain": [
       "<Figure size 1224x1080 with 1 Axes>"
      ]
     },
     "metadata": {
      "needs_background": "light"
     },
     "output_type": "display_data"
    }
   ],
   "source": [
    "trial_data_copy = util.sample_offset(trial_data, -200, 100)\n",
    "visualization.draw_trial(trial_data_copy, draw_aoi=True, draw_saccade=True, draw_number=True)"
   ]
  }
 ],
 "metadata": {
  "interpreter": {
   "hash": "31b33fcf11092c8e7d239d788eaa8bd35ca0e9e7f582a9d7cc92a75d18dbc581"
  },
  "kernelspec": {
   "display_name": "Python 3.9.7 64-bit ('base': conda)",
   "language": "python",
   "name": "python3"
  },
  "language_info": {
   "codemirror_mode": {
    "name": "ipython",
    "version": 3
   },
   "file_extension": ".py",
   "mimetype": "text/x-python",
   "name": "python",
   "nbconvert_exporter": "python",
   "pygments_lexer": "ipython3",
   "version": "3.9.7"
  },
  "orig_nbformat": 4
 },
 "nbformat": 4,
 "nbformat_minor": 2
}
