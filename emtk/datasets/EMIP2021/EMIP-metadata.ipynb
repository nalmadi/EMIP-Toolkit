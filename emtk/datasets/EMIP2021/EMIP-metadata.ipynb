{
 "cells": [
  {
   "cell_type": "code",
   "execution_count": 1,
   "metadata": {},
   "outputs": [],
   "source": [
    "import pandas as pd"
   ]
  },
  {
   "cell_type": "code",
   "execution_count": 2,
   "metadata": {},
   "outputs": [],
   "source": [
    "#load data from csv to a dataframe\n",
    "emip_metadata = pd.read_csv(\"../emip_dataset/emip_metadata.csv\")"
   ]
  },
  {
   "cell_type": "code",
   "execution_count": 3,
   "metadata": {},
   "outputs": [
    {
     "data": {
      "text/html": [
       "<div>\n",
       "<style scoped>\n",
       "    .dataframe tbody tr th:only-of-type {\n",
       "        vertical-align: middle;\n",
       "    }\n",
       "\n",
       "    .dataframe tbody tr th {\n",
       "        vertical-align: top;\n",
       "    }\n",
       "\n",
       "    .dataframe thead th {\n",
       "        text-align: right;\n",
       "    }\n",
       "</style>\n",
       "<table border=\"1\" class=\"dataframe\">\n",
       "  <thead>\n",
       "    <tr style=\"text-align: right;\">\n",
       "      <th></th>\n",
       "      <th>id</th>\n",
       "      <th>age</th>\n",
       "      <th>gender</th>\n",
       "      <th>mother_tongue</th>\n",
       "      <th>english_level</th>\n",
       "      <th>visual_aid</th>\n",
       "      <th>makeup</th>\n",
       "      <th>experiment_language</th>\n",
       "      <th>expertise_experiment_language</th>\n",
       "      <th>time_experiment_language</th>\n",
       "      <th>...</th>\n",
       "      <th>order_rectangle</th>\n",
       "      <th>stimulus_rectangle</th>\n",
       "      <th>answer_vehicle</th>\n",
       "      <th>correct_vehicle</th>\n",
       "      <th>order_vehicle</th>\n",
       "      <th>stimulus_vehicle</th>\n",
       "      <th>mother_tongue_original</th>\n",
       "      <th>time_experiment_language_original</th>\n",
       "      <th>time_programming_original</th>\n",
       "      <th>other_languages_original</th>\n",
       "    </tr>\n",
       "  </thead>\n",
       "  <tbody>\n",
       "    <tr>\n",
       "      <th>0</th>\n",
       "      <td>1</td>\n",
       "      <td>63</td>\n",
       "      <td>male</td>\n",
       "      <td>Czech</td>\n",
       "      <td>high</td>\n",
       "      <td>glasses</td>\n",
       "      <td>no</td>\n",
       "      <td>Java</td>\n",
       "      <td>high</td>\n",
       "      <td>30.0</td>\n",
       "      <td>...</td>\n",
       "      <td>2</td>\n",
       "      <td>rectangle_java.jpg</td>\n",
       "      <td>... defines a vehicle by a producer, that has ...</td>\n",
       "      <td>0</td>\n",
       "      <td>1</td>\n",
       "      <td>vehicle_java.jpg</td>\n",
       "      <td>czech</td>\n",
       "      <td>30y</td>\n",
       "      <td>40+</td>\n",
       "      <td>CoffeeScript (high) JavaScript (high) Python (...</td>\n",
       "    </tr>\n",
       "    <tr>\n",
       "      <th>1</th>\n",
       "      <td>2</td>\n",
       "      <td>24</td>\n",
       "      <td>male</td>\n",
       "      <td>Slovak</td>\n",
       "      <td>medium</td>\n",
       "      <td>glasses</td>\n",
       "      <td>no</td>\n",
       "      <td>Java</td>\n",
       "      <td>medium</td>\n",
       "      <td>2.0</td>\n",
       "      <td>...</td>\n",
       "      <td>1</td>\n",
       "      <td>rectangle_java2.jpg</td>\n",
       "      <td>... defines a vehicle by a producer, that has ...</td>\n",
       "      <td>0</td>\n",
       "      <td>2</td>\n",
       "      <td>vehicle_java2.jpg</td>\n",
       "      <td>Slovak</td>\n",
       "      <td>2</td>\n",
       "      <td>5</td>\n",
       "      <td>c++(low), php(medium), delphi(low)</td>\n",
       "    </tr>\n",
       "    <tr>\n",
       "      <th>2</th>\n",
       "      <td>3</td>\n",
       "      <td>27</td>\n",
       "      <td>female</td>\n",
       "      <td>Hebrew</td>\n",
       "      <td>high</td>\n",
       "      <td>no</td>\n",
       "      <td>no</td>\n",
       "      <td>Java</td>\n",
       "      <td>none</td>\n",
       "      <td>0.0</td>\n",
       "      <td>...</td>\n",
       "      <td>2</td>\n",
       "      <td>rectangle_java2.jpg</td>\n",
       "      <td>... defines a vehicle by a producer, that has ...</td>\n",
       "      <td>0</td>\n",
       "      <td>1</td>\n",
       "      <td>vehicle_java2.jpg</td>\n",
       "      <td>Hebrew</td>\n",
       "      <td>0</td>\n",
       "      <td>0</td>\n",
       "      <td>c# (low)</td>\n",
       "    </tr>\n",
       "    <tr>\n",
       "      <th>3</th>\n",
       "      <td>4</td>\n",
       "      <td>24</td>\n",
       "      <td>male</td>\n",
       "      <td>Hindi</td>\n",
       "      <td>high</td>\n",
       "      <td>glasses</td>\n",
       "      <td>no</td>\n",
       "      <td>Java</td>\n",
       "      <td>medium</td>\n",
       "      <td>4.0</td>\n",
       "      <td>...</td>\n",
       "      <td>1</td>\n",
       "      <td>rectangle_java2.jpg</td>\n",
       "      <td>... defines a vehicle by a producer, that has ...</td>\n",
       "      <td>0</td>\n",
       "      <td>2</td>\n",
       "      <td>vehicle_java2.jpg</td>\n",
       "      <td>Hindi</td>\n",
       "      <td>4</td>\n",
       "      <td>10</td>\n",
       "      <td>Python(High) C++(High) C(High) HTML/PHP/SQL (H...</td>\n",
       "    </tr>\n",
       "    <tr>\n",
       "      <th>4</th>\n",
       "      <td>5</td>\n",
       "      <td>24</td>\n",
       "      <td>male</td>\n",
       "      <td>Italian</td>\n",
       "      <td>medium</td>\n",
       "      <td>no</td>\n",
       "      <td>no</td>\n",
       "      <td>Java</td>\n",
       "      <td>none</td>\n",
       "      <td>0.0</td>\n",
       "      <td>...</td>\n",
       "      <td>1</td>\n",
       "      <td>rectangle_java2.jpg</td>\n",
       "      <td>... defines a vehicle by a producer, that has ...</td>\n",
       "      <td>0</td>\n",
       "      <td>2</td>\n",
       "      <td>vehicle_java2.jpg</td>\n",
       "      <td>italiano</td>\n",
       "      <td>0</td>\n",
       "      <td>5</td>\n",
       "      <td>objective C , C</td>\n",
       "    </tr>\n",
       "  </tbody>\n",
       "</table>\n",
       "<p>5 rows × 27 columns</p>\n",
       "</div>"
      ],
      "text/plain": [
       "   id  age  gender mother_tongue english_level visual_aid makeup  \\\n",
       "0   1   63    male         Czech          high    glasses     no   \n",
       "1   2   24    male        Slovak        medium    glasses     no   \n",
       "2   3   27  female        Hebrew          high         no     no   \n",
       "3   4   24    male         Hindi          high    glasses     no   \n",
       "4   5   24    male       Italian        medium         no     no   \n",
       "\n",
       "  experiment_language expertise_experiment_language  time_experiment_language  \\\n",
       "0                Java                          high                      30.0   \n",
       "1                Java                        medium                       2.0   \n",
       "2                Java                          none                       0.0   \n",
       "3                Java                        medium                       4.0   \n",
       "4                Java                          none                       0.0   \n",
       "\n",
       "   ... order_rectangle   stimulus_rectangle  \\\n",
       "0  ...               2   rectangle_java.jpg   \n",
       "1  ...               1  rectangle_java2.jpg   \n",
       "2  ...               2  rectangle_java2.jpg   \n",
       "3  ...               1  rectangle_java2.jpg   \n",
       "4  ...               1  rectangle_java2.jpg   \n",
       "\n",
       "                                      answer_vehicle correct_vehicle  \\\n",
       "0  ... defines a vehicle by a producer, that has ...               0   \n",
       "1  ... defines a vehicle by a producer, that has ...               0   \n",
       "2  ... defines a vehicle by a producer, that has ...               0   \n",
       "3  ... defines a vehicle by a producer, that has ...               0   \n",
       "4  ... defines a vehicle by a producer, that has ...               0   \n",
       "\n",
       "  order_vehicle   stimulus_vehicle  mother_tongue_original  \\\n",
       "0             1   vehicle_java.jpg                   czech   \n",
       "1             2  vehicle_java2.jpg                  Slovak   \n",
       "2             1  vehicle_java2.jpg                  Hebrew   \n",
       "3             2  vehicle_java2.jpg                   Hindi   \n",
       "4             2  vehicle_java2.jpg                italiano   \n",
       "\n",
       "   time_experiment_language_original time_programming_original  \\\n",
       "0                                30y                       40+   \n",
       "1                                  2                         5   \n",
       "2                                  0                         0   \n",
       "3                                  4                        10   \n",
       "4                                  0                         5   \n",
       "\n",
       "                            other_languages_original  \n",
       "0  CoffeeScript (high) JavaScript (high) Python (...  \n",
       "1                 c++(low), php(medium), delphi(low)  \n",
       "2                                           c# (low)  \n",
       "3  Python(High) C++(High) C(High) HTML/PHP/SQL (H...  \n",
       "4                                   objective C , C   \n",
       "\n",
       "[5 rows x 27 columns]"
      ]
     },
     "execution_count": 3,
     "metadata": {},
     "output_type": "execute_result"
    }
   ],
   "source": [
    "emip_metadata.head()"
   ]
  },
  {
   "cell_type": "code",
   "execution_count": 4,
   "metadata": {},
   "outputs": [
    {
     "data": {
      "image/png": "[encoded data removed]",
      "text/plain": [
       "<Figure size 1440x1080 with 9 Axes>"
      ]
     },
     "metadata": {
      "needs_background": "light"
     },
     "output_type": "display_data"
    }
   ],
   "source": [
    "%matplotlib inline\n",
    "import matplotlib.pyplot as plt\n",
    "emip_metadata.hist(bins = 50, figsize=(20,15))\n",
    "plt.show()"
   ]
  },
  {
   "cell_type": "code",
   "execution_count": 5,
   "metadata": {},
   "outputs": [
    {
     "data": {
      "text/plain": [
       "Java      207\n",
       "Python      5\n",
       "Scala       4\n",
       "Name: experiment_language, dtype: int64"
      ]
     },
     "execution_count": 5,
     "metadata": {},
     "output_type": "execute_result"
    }
   ],
   "source": [
    "#207 used Java, 5 Python, and 4 Scala\n",
    "\n",
    "emip_metadata[\"experiment_language\"].value_counts()"
   ]
  },
  {
   "cell_type": "code",
   "execution_count": 6,
   "metadata": {},
   "outputs": [
    {
     "data": {
      "text/plain": [
       "0    166\n",
       "1     50\n",
       "Name: correct_vehicle, dtype: int64"
      ]
     },
     "execution_count": 6,
     "metadata": {},
     "output_type": "execute_result"
    }
   ],
   "source": [
    "#only 50 answered vehicle question correctly\n",
    "\n",
    "emip_metadata[\"correct_vehicle\"].value_counts()"
   ]
  },
  {
   "cell_type": "code",
   "execution_count": 7,
   "metadata": {},
   "outputs": [
    {
     "data": {
      "text/plain": [
       "1    152\n",
       "0     64\n",
       "Name: correct_rectangle, dtype: int64"
      ]
     },
     "execution_count": 7,
     "metadata": {},
     "output_type": "execute_result"
    }
   ],
   "source": [
    "#152 answered rectangle question correctly\n",
    "\n",
    "emip_metadata[\"correct_rectangle\"].value_counts()"
   ]
  },
  {
   "cell_type": "code",
   "execution_count": 8,
   "metadata": {},
   "outputs": [
    {
     "data": {
      "text/plain": [
       "male      175\n",
       "female     41\n",
       "Name: gender, dtype: int64"
      ]
     },
     "execution_count": 8,
     "metadata": {},
     "output_type": "execute_result"
    }
   ],
   "source": [
    "emip_metadata[\"gender\"].value_counts()"
   ]
  },
  {
   "cell_type": "code",
   "execution_count": 9,
   "metadata": {},
   "outputs": [
    {
     "data": {
      "text/plain": [
       "English             62\n",
       "Slovak              57\n",
       "Italian             21\n",
       "Finnish             17\n",
       "German              10\n",
       "Hebrew               8\n",
       "Telugu               4\n",
       "Chinese              4\n",
       "Spanish              3\n",
       "Hindi                3\n",
       "Nepali               2\n",
       "Swedish              2\n",
       "Greek                2\n",
       "Bengali              2\n",
       "Portuguese           2\n",
       "Czech                2\n",
       "Italian; English     1\n",
       "Persian              1\n",
       "Turkish              1\n",
       "Russian; Hebrew      1\n",
       "Punjabi              1\n",
       "Ukrainian            1\n",
       "Cantonese            1\n",
       "Thai                 1\n",
       "Arabic               1\n",
       "Egyptian             1\n",
       "Tagalog              1\n",
       "English; Hebrew      1\n",
       "Tamil                1\n",
       "Marathi              1\n",
       "Norwegian            1\n",
       "Name: mother_tongue, dtype: int64"
      ]
     },
     "execution_count": 9,
     "metadata": {},
     "output_type": "execute_result"
    }
   ],
   "source": [
    "emip_metadata[\"mother_tongue\"].value_counts()"
   ]
  },
  {
   "cell_type": "code",
   "execution_count": 10,
   "metadata": {},
   "outputs": [
    {
     "data": {
      "text/plain": [
       "high      123\n",
       "medium     89\n",
       "low         4\n",
       "Name: english_level, dtype: int64"
      ]
     },
     "execution_count": 10,
     "metadata": {},
     "output_type": "execute_result"
    }
   ],
   "source": [
    "emip_metadata[\"english_level\"].value_counts()"
   ]
  },
  {
   "cell_type": "code",
   "execution_count": 11,
   "metadata": {},
   "outputs": [
    {
     "data": {
      "text/plain": [
       "no                125\n",
       "glasses            74\n",
       "contact lenses     17\n",
       "Name: visual_aid, dtype: int64"
      ]
     },
     "execution_count": 11,
     "metadata": {},
     "output_type": "execute_result"
    }
   ],
   "source": [
    "emip_metadata[\"visual_aid\"].value_counts()"
   ]
  },
  {
   "cell_type": "code",
   "execution_count": 12,
   "metadata": {},
   "outputs": [
    {
     "data": {
      "text/plain": [
       "experiment_language  expertise_experiment_language\n",
       "Java                 medium                           95\n",
       "                     low                              65\n",
       "                     none                             30\n",
       "                     high                             17\n",
       "Python               medium                            5\n",
       "Scala                low                               4\n",
       "Name: expertise_experiment_language, dtype: int64"
      ]
     },
     "execution_count": 12,
     "metadata": {},
     "output_type": "execute_result"
    }
   ],
   "source": [
    "emip_metadata.groupby(\"experiment_language\")[\"expertise_experiment_language\"].value_counts()"
   ]
  },
  {
   "cell_type": "code",
   "execution_count": 13,
   "metadata": {},
   "outputs": [
    {
     "data": {
      "text/plain": [
       "experiment_language  expertise_programming\n",
       "Java                 medium                   114\n",
       "                     low                       42\n",
       "                     high                      40\n",
       "                     none                      11\n",
       "Python               medium                     5\n",
       "Scala                low                        3\n",
       "                     medium                     1\n",
       "Name: expertise_programming, dtype: int64"
      ]
     },
     "execution_count": 13,
     "metadata": {},
     "output_type": "execute_result"
    }
   ],
   "source": [
    "emip_metadata.groupby(\"experiment_language\")[\"expertise_programming\"].value_counts()"
   ]
  },
  {
   "cell_type": "code",
   "execution_count": 14,
   "metadata": {},
   "outputs": [
    {
     "data": {
      "text/plain": [
       "experiment_language  time_programming\n",
       "Java                 2.0                 30\n",
       "                     3.0                 30\n",
       "                     5.0                 27\n",
       "                     1.0                 18\n",
       "                     0.0                 16\n",
       "                     4.0                 16\n",
       "                     10.0                 9\n",
       "                     6.0                  9\n",
       "                     7.0                  8\n",
       "                     1.5                  6\n",
       "                     8.0                  6\n",
       "                     15.0                 5\n",
       "                     0.5                  4\n",
       "                     20.0                 4\n",
       "                     16.0                 3\n",
       "                     18.0                 2\n",
       "                     2.5                  2\n",
       "                     35.0                 2\n",
       "                     9.0                  2\n",
       "                     14.0                 1\n",
       "                     23.0                 1\n",
       "                     25.0                 1\n",
       "                     36.0                 1\n",
       "                     37.0                 1\n",
       "                     40.0                 1\n",
       "                     40.0+                1\n",
       "                     56.0                 1\n",
       "Python               10.0                 1\n",
       "                     20.0                 1\n",
       "                     3.0                  1\n",
       "                     4.0                  1\n",
       "                     8.0                  1\n",
       "Scala                0.0                  1\n",
       "                     1.0                  1\n",
       "                     15.0                 1\n",
       "                     5.0                  1\n",
       "Name: time_programming, dtype: int64"
      ]
     },
     "execution_count": 14,
     "metadata": {},
     "output_type": "execute_result"
    }
   ],
   "source": [
    "emip_metadata.groupby(\"experiment_language\")[\"time_programming\"].value_counts()"
   ]
  },
  {
   "cell_type": "code",
   "execution_count": 15,
   "metadata": {},
   "outputs": [
    {
     "data": {
      "text/plain": [
       "experiment_language  correct_rectangle\n",
       "Java                 1                    146\n",
       "                     0                     61\n",
       "Python               1                      4\n",
       "                     0                      1\n",
       "Scala                0                      2\n",
       "                     1                      2\n",
       "Name: correct_rectangle, dtype: int64"
      ]
     },
     "execution_count": 15,
     "metadata": {},
     "output_type": "execute_result"
    }
   ],
   "source": [
    "emip_metadata.groupby(\"experiment_language\")[\"correct_rectangle\"].value_counts()"
   ]
  },
  {
   "cell_type": "code",
   "execution_count": 16,
   "metadata": {},
   "outputs": [
    {
     "data": {
      "text/plain": [
       "experiment_language  correct_vehicle\n",
       "Java                 0                  160\n",
       "                     1                   47\n",
       "Python               0                    3\n",
       "                     1                    2\n",
       "Scala                0                    3\n",
       "                     1                    1\n",
       "Name: correct_vehicle, dtype: int64"
      ]
     },
     "execution_count": 16,
     "metadata": {},
     "output_type": "execute_result"
    }
   ],
   "source": [
    "emip_metadata.groupby(\"experiment_language\")[\"correct_vehicle\"].value_counts()"
   ]
  },
  {
   "cell_type": "code",
   "execution_count": null,
   "metadata": {},
   "outputs": [],
   "source": []
  },
  {
   "cell_type": "code",
   "execution_count": null,
   "metadata": {},
   "outputs": [],
   "source": []
  },
  {
   "cell_type": "code",
   "execution_count": null,
   "metadata": {},
   "outputs": [],
   "source": []
  }
 ],
 "metadata": {
  "kernelspec": {
   "display_name": "Python 3",
   "language": "python",
   "name": "python3"
  },
  "language_info": {
   "codemirror_mode": {
    "name": "ipython",
    "version": 3
   },
   "file_extension": ".py",
   "mimetype": "text/x-python",
   "name": "python",
   "nbconvert_exporter": "python",
   "pygments_lexer": "ipython3",
   "version": "3.7.6"
  }
 },
 "nbformat": 4,
 "nbformat_minor": 2
}
